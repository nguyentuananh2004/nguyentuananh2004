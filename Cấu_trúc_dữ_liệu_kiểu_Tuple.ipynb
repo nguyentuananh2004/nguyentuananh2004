{
  "nbformat": 4,
  "nbformat_minor": 0,
  "metadata": {
    "colab": {
      "provenance": [],
      "authorship_tag": "ABX9TyPKy4Nj5FH1ybLikyOyEVox",
      "include_colab_link": true
    },
    "kernelspec": {
      "name": "python3",
      "display_name": "Python 3"
    },
    "language_info": {
      "name": "python"
    }
  },
  "cells": [
    {
      "cell_type": "markdown",
      "metadata": {
        "id": "view-in-github",
        "colab_type": "text"
      },
      "source": [
        "<a href=\"https://colab.research.google.com/github/nguyentuananh2004/nguyentuananh2004/blob/main/C%E1%BA%A5u_tr%C3%BAc_d%E1%BB%AF_li%E1%BB%87u_ki%E1%BB%83u_Tuple.ipynb\" target=\"_parent\"><img src=\"https://colab.research.google.com/assets/colab-badge.svg\" alt=\"Open In Colab\"/></a>"
      ]
    },
    {
      "cell_type": "markdown",
      "source": [
        "Cấu trúc dữ liệu kiểu Tuple"
      ],
      "metadata": {
        "id": "ATaSXtJ_uk0I"
      }
    },
    {
      "cell_type": "markdown",
      "source": [
        "1"
      ],
      "metadata": {
        "id": "9mMTXMOQwCzP"
      }
    },
    {
      "cell_type": "code",
      "execution_count": null,
      "metadata": {
        "id": "1WwMcYmkudaU"
      },
      "outputs": [],
      "source": [
        "t = (12,45,-1,-0.56,\"abc\",True)"
      ]
    },
    {
      "cell_type": "markdown",
      "source": [
        "2"
      ],
      "metadata": {
        "id": "8JV6tXkmwDs_"
      }
    },
    {
      "cell_type": "code",
      "source": [
        "print(t)"
      ],
      "metadata": {
        "colab": {
          "base_uri": "https://localhost:8080/"
        },
        "id": "hdGikblgvbFY",
        "outputId": "ec29edf0-9082-4e7b-891e-d4e06c6435ac"
      },
      "execution_count": null,
      "outputs": [
        {
          "output_type": "stream",
          "name": "stdout",
          "text": [
            "(12, 45, -1, -0.56, 'abc', True)\n"
          ]
        }
      ]
    },
    {
      "cell_type": "markdown",
      "source": [
        "3"
      ],
      "metadata": {
        "id": "G4zG1TVMwEwG"
      }
    },
    {
      "cell_type": "code",
      "source": [
        "print(t[-1],t[0])"
      ],
      "metadata": {
        "colab": {
          "base_uri": "https://localhost:8080/"
        },
        "id": "WIH8nxEWvjw3",
        "outputId": "88c6bca8-c736-4bd4-f274-95f672876f8d"
      },
      "execution_count": null,
      "outputs": [
        {
          "output_type": "stream",
          "name": "stdout",
          "text": [
            "True 12\n"
          ]
        }
      ]
    },
    {
      "cell_type": "markdown",
      "source": [
        "4"
      ],
      "metadata": {
        "id": "ajUAFquNwFe3"
      }
    },
    {
      "cell_type": "code",
      "source": [
        "print(t[0:4])"
      ],
      "metadata": {
        "colab": {
          "base_uri": "https://localhost:8080/"
        },
        "id": "g63IKfY0vqez",
        "outputId": "b4048b55-1693-4c75-ebd0-cfdb9bb04c63"
      },
      "execution_count": null,
      "outputs": [
        {
          "output_type": "stream",
          "name": "stdout",
          "text": [
            "(12, 45, -1, -0.56)\n"
          ]
        }
      ]
    },
    {
      "cell_type": "markdown",
      "source": [
        "5"
      ],
      "metadata": {
        "id": "p1_2maACwGKH"
      }
    },
    {
      "cell_type": "code",
      "source": [
        "print(t[2:])"
      ],
      "metadata": {
        "colab": {
          "base_uri": "https://localhost:8080/"
        },
        "id": "7k2uoTQbvvHw",
        "outputId": "a24a0ac9-2256-40ed-c95f-60336505a7b9"
      },
      "execution_count": null,
      "outputs": [
        {
          "output_type": "stream",
          "name": "stdout",
          "text": [
            "(-1, -0.56, 'abc', True)\n"
          ]
        }
      ]
    },
    {
      "cell_type": "markdown",
      "source": [
        "6"
      ],
      "metadata": {
        "id": "0uE09lMtwGy3"
      }
    },
    {
      "cell_type": "code",
      "source": [
        "T = list(t)\n",
        "type(T)"
      ],
      "metadata": {
        "colab": {
          "base_uri": "https://localhost:8080/"
        },
        "id": "hT7TsKnEv29v",
        "outputId": "b9cb15ac-6387-4ca7-a579-093c0f7d12d2"
      },
      "execution_count": null,
      "outputs": [
        {
          "output_type": "execute_result",
          "data": {
            "text/plain": [
              "list"
            ]
          },
          "metadata": {},
          "execution_count": 10
        }
      ]
    }
  ]
}